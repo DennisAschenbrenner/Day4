{
 "cells": [
  {
   "cell_type": "markdown",
   "metadata": {},
   "source": [
    "## <u>For Loops in Python</u>\n",
    "\n",
    "\n",
    "\n",
    "* A for loop is used for iterating over a sequence (for example a list, a tuple, a dictionary, a set, or a string).\n",
    "\n",
    "\n",
    "\n",
    "* for loops are traditionally used when you have a block of code which you want to repeat a fixed number of times. The for statement iterates over the members of a sequence in order, executing the subsequent block of code statements each time, once for each item in a list, tuple, set etc.\n",
    "\n",
    "\n",
    "\n",
    "* In contrast: a while loop checks a condition each iteration before executing the subsequent block of code.\n",
    "\n",
    "\n",
    "\n",
    "* Code statements can include conditional statements (if, elif, else) or other loop statements (for, while), nested loops.\n",
    "\n",
    "\n",
    "\n",
    "* Break (exiting the loop) and continue (start the next iteration step) work the same as with while loops.\n"
   ]
  },
  {
   "cell_type": "code",
   "execution_count": 32,
   "metadata": {},
   "outputs": [
    {
     "name": "stdout",
     "output_type": "stream",
     "text": [
      "h\n",
      "e\n",
      "l\n",
      "l\n",
      "o\n"
     ]
    }
   ],
   "source": [
    "my_str = 'hello'\n",
    "for char in my_str:\n",
    "    print(char)"
   ]
  },
  {
   "cell_type": "code",
   "execution_count": 17,
   "metadata": {},
   "outputs": [
    {
     "name": "stdout",
     "output_type": "stream",
     "text": [
      "0  is even\n",
      "1  is odd\n",
      "2  is even\n",
      "3  is odd\n",
      "4  is even\n",
      "5  is odd\n",
      "6  is even\n",
      "7  is odd\n",
      "8  is even\n",
      "9  is odd\n",
      "10  is even\n"
     ]
    }
   ],
   "source": [
    "for num in range(11):\n",
    "    \n",
    "    if (num % 2) == 0:\n",
    "        print(num, ' is even')        \n",
    "    elif (num % 2) == 1:\n",
    "        print(num, ' is odd')"
   ]
  },
  {
   "cell_type": "code",
   "execution_count": 18,
   "metadata": {},
   "outputs": [
    {
     "name": "stdout",
     "output_type": "stream",
     "text": [
      "0 0\n",
      "0 2\n",
      "1 0\n",
      "1 2\n",
      "2 0\n",
      "2 2\n"
     ]
    }
   ],
   "source": [
    "for i in range(3):\n",
    "    for j in range(3):\n",
    "        if j == 1:\n",
    "            continue\n",
    "        else:\n",
    "            print(i, j)"
   ]
  },
  {
   "cell_type": "code",
   "execution_count": 19,
   "metadata": {},
   "outputs": [
    {
     "name": "stdout",
     "output_type": "stream",
     "text": [
      "0 5\n",
      "1 6\n",
      "2 7\n",
      "3 8\n"
     ]
    }
   ],
   "source": [
    "my_list = [5, 6, 7, 8, 9, 10]\n",
    "for idx, num in enumerate(my_list):      # iterating over index, value pairs\n",
    "        \n",
    "    if num > 8:\n",
    "        break\n",
    "    else:\n",
    "        print(idx, num)"
   ]
  },
  {
   "cell_type": "code",
   "execution_count": 31,
   "metadata": {},
   "outputs": [
    {
     "name": "stdout",
     "output_type": "stream",
     "text": [
      "key1 value1\n",
      "key2 value2\n",
      "key3 value3\n",
      "('key1', 'value1')\n",
      "('key2', 'value2')\n",
      "('key3', 'value3')\n",
      "key1\n",
      "key2\n",
      "key3\n"
     ]
    }
   ],
   "source": [
    "dict_1 = {'key1': 'value1', 'key2': 'value2', 'key3': 'value3'}\n",
    "for key, value in dict_1.items():\n",
    "     print(key, value)\n",
    "        \n",
    "for element in dict_1.items():\n",
    "    print(element)\n",
    "    \n",
    "for key in dict_1.keys():\n",
    "    print(key)"
   ]
  },
  {
   "cell_type": "code",
   "execution_count": null,
   "metadata": {},
   "outputs": [],
   "source": []
  }
 ],
 "metadata": {
  "kernelspec": {
   "display_name": "Python [conda env:nf] *",
   "language": "python",
   "name": "conda-env-nf-py"
  },
  "language_info": {
   "codemirror_mode": {
    "name": "ipython",
    "version": 3
   },
   "file_extension": ".py",
   "mimetype": "text/x-python",
   "name": "python",
   "nbconvert_exporter": "python",
   "pygments_lexer": "ipython3",
   "version": "3.6.6"
  }
 },
 "nbformat": 4,
 "nbformat_minor": 2
}
